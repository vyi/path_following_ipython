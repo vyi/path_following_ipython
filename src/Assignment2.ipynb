{
 "cells": [
  {
   "cell_type": "markdown",
   "metadata": {},
   "source": [
    "#### Assignment 2  \n",
    "Line tracing without orientation control"
   ]
  },
  {
   "cell_type": "markdown",
   "metadata": {},
   "source": [
    "*Object* : Make the bot trace the the $45^{\\circ}$ line w.r.t. x-axis"
   ]
  },
  {
   "cell_type": "code",
   "execution_count": 1,
   "metadata": {
    "collapsed": true
   },
   "outputs": [],
   "source": [
    "######\n",
    "#  Initializations (Initializations for plotting and ODE solver packages)\n",
    "######\n",
    "\n",
    "\n",
    "%matplotlib inline\n",
    "import numpy as np\n",
    "from scipy import integrate\n",
    "import matplotlib.pyplot as plt\n",
    "\n",
    "\n",
    "fig_size=[0, 0]\n",
    "fig_size[0] = 12\n",
    "fig_size[1] = 8\n",
    "plt.rcParams[\"figure.figsize\"] = fig_size"
   ]
  },
  {
   "cell_type": "code",
   "execution_count": 2,
   "metadata": {
    "collapsed": true
   },
   "outputs": [],
   "source": [
    "###################################\n",
    "## Defining the unicycle \n",
    "###################################\n",
    "\n",
    "class bot_unicycle(object):\n",
    "    '''Bot uniclcle class represents a unicylcle model (Diffrential Equations and corresponding solver)'''\n",
    "    def __init__(self, d, l, ic):\n",
    "        self.d = d\n",
    "        self.l = l\n",
    "        self.X = ic\n",
    "        self.t1 = 0.0\n",
    "        print self.X\n",
    "\n",
    "    def model(self, Y, t, v):\n",
    "        ''' This is the differential equation function that will be \n",
    "        solved for the unicycle '''\n",
    "        theta_e = Y[-1] \n",
    "        x_dot  = v[0]*np.cos(theta_e)\n",
    "        y_dot  = v[0]*np.sin(theta_e)\n",
    "        theta_dot = v[1]\n",
    "        \n",
    "        return [x_dot, y_dot, theta_dot]\n",
    "        \n",
    "    def step(self, dt, v):\n",
    "        response = integrate.odeint(self.model, self.X, [self.t1, self.t1+dt], args=(v,))\n",
    "        #print np.shape(response)\n",
    "        #print response,'\"'\n",
    "        self.X = response[-1,:]\n",
    "        self.t1 = self.t1 + dt\n",
    "        return self.X  "
   ]
  },
  {
   "cell_type": "code",
   "execution_count": 6,
   "metadata": {
    "collapsed": false
   },
   "outputs": [
    {
     "name": "stdout",
     "output_type": "stream",
     "text": [
      "[30, 200, 2.0943951023931953]\n"
     ]
    },
    {
     "data": {
      "image/png": "[encoded data removed]",
      "text/plain": [
       "<matplotlib.figure.Figure at 0x7f5bc9ecf8d0>"
      ]
     },
     "metadata": {},
     "output_type": "display_data"
    },
    {
     "name": "stdout",
     "output_type": "stream",
     "text": [
      "finished\n"
     ]
    }
   ],
   "source": [
    "\n",
    "## CHOOSEN VALUE OF GAINs\n",
    "k2 = 0.001\n",
    "k3 = 0.04\n",
    "\n",
    "\n",
    "\n",
    "## INITIAL CONDITION !!!!!!! \n",
    "initial_pose = [30, 200, 120*np.pi/180.0] ## 120 degree heading to start with\n",
    "\n",
    "## CREATING A UNICYCLE INSTANCE\n",
    "my_bot = bot_unicycle(1, 1, initial_pose) \n",
    "\n",
    "\n",
    "## TIME DELTA TO BE USED FOR SIMULATION OF THE ODE\n",
    "delta = 0.007 \n",
    "\n",
    "## INITIAL HEADING COMMAND (in degrees)\n",
    "heading = 0.00\n",
    "\n",
    "## CONTROL INPUT, WHICH IS A 2 COMPONENT VECTOR {FWD velocity and  theta}\n",
    "v= [ 3, heading*np.pi/180.0]\n",
    "\n",
    "\n",
    "## PLOTTING THE START POINT WITH A GREEN SQUARE\n",
    "plt.plot(initial_pose[0],initial_pose[1],'gs', label='start point')\n",
    "\n",
    "\n",
    "## REFERENCE HEADING/ COMMAND HEADING\n",
    "ref_head = 45.0*np.pi/180.0 \n",
    "\n",
    "\n",
    "## THIS LOOP IS THE SIMULATION\n",
    "for i in range(250):\n",
    "    \n",
    "    ## SOLVING THE ODE FOR EACH DELTA_TIME\n",
    "    x,y, heading = my_bot.step(i*delta, v)\n",
    "    \n",
    "    ## THE FOLLOWING CONDITION ENSURES THAT THE UNICYCLE GETS NO FEEDBACK FOR FIRST 20 STEPS\n",
    "    if i>20:\n",
    "        \n",
    "        ## PLOT THE CURRENT POSITION OF THE UNICYCLE\n",
    "        plt.plot(x,y,'rs')\n",
    "        \n",
    "        \n",
    "        ## UPDATING THE UNICYCLE PARAMETERS FROM THE ODE RESULTS\n",
    "        x_pos, y_pos, head = x, y, heading \n",
    "        \n",
    "        ## CALCULATING THE HEADING ERROR\n",
    "        theta_err = head - ref_head\n",
    "        \n",
    "        ## CALCULATING THE DISTANCE FROM THE REFERENCE LINE\n",
    "        dist = (y_pos*(1.0) + (-1.0)*x_pos)/np.sqrt(2.0)\n",
    "        \n",
    "        ## THIS IS THE CONTROL LAW\n",
    "        v2 = -(v[0] * np.cos(theta_err)*k2*dist  + np.abs(v[0]*np.cos(theta_err))*k3*np.tan(theta_err)) \n",
    "        v[1] = v2/(1 + np.tan(theta_err)*np.tan(theta_err))\n",
    "        \n",
    "        \n",
    "\n",
    "\n",
    "        \n",
    "        \n",
    "    else:\n",
    "        plt.plot(x,y,'gs')\n",
    "        \n",
    "ub = [(i,i+1) for i in range(450)]\n",
    "lb = [(i,i-1) for i in range(450)]\n",
    "\n",
    "\n",
    "plt.plot(ub,'y-')\n",
    "plt.plot(lb,'y-')\n",
    "plt.plot([5],[5],'y-', label='reference path')\n",
    "plt.plot([30],[100],'rs', label='unicycle path')\n",
    "plt.xlabel('x')\n",
    "plt.ylabel('y')\n",
    "plt.title('Line Following with orientation control $K_2={}, k3={}$'.format(k2,k3))\n",
    "#plt.xlim(-20,500)\n",
    "#plt.ylim(-20,500)\n",
    "plt.grid()\n",
    "plt.legend(loc=4)\n",
    "plt.show()\n",
    "print 'finished'"
   ]
  },
  {
   "cell_type": "code",
   "execution_count": null,
   "metadata": {
    "collapsed": true
   },
   "outputs": [],
   "source": []
  }
 ],
 "metadata": {
  "kernelspec": {
   "display_name": "Python 2",
   "language": "python",
   "name": "python2"
  },
  "language_info": {
   "codemirror_mode": {
    "name": "ipython",
    "version": 2
   },
   "file_extension": ".py",
   "mimetype": "text/x-python",
   "name": "python",
   "nbconvert_exporter": "python",
   "pygments_lexer": "ipython2",
   "version": "2.7.12"
  }
 },
 "nbformat": 4,
 "nbformat_minor": 0
}
