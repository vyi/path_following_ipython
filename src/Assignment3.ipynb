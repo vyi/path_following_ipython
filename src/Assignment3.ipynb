{
 "cells": [
  {
   "cell_type": "markdown",
   "metadata": {},
   "source": [
    "#### ASSIGNMENT 3\n",
    "Tracking a reference trajectory (another vehicle)\n",
    "\n"
   ]
  },
  {
   "cell_type": "markdown",
   "metadata": {},
   "source": [
    "The first robot is fed with a predetermined input \n",
    "     $$u_{11} = 10 ~m/s ~~~~~~~~\\text{velocity}$$  \n",
    "     $$u_{12} = sin(2 \\times \\pi \\times 0.001 \\times t) ~rad/s ~~~~~~~~\\text{angular velocity}$$  \n",
    "     \n"
   ]
  },
  {
   "cell_type": "code",
   "execution_count": 1,
   "metadata": {
    "collapsed": false
   },
   "outputs": [],
   "source": [
    "%matplotlib inline\n",
    "import numpy as np\n",
    "import matplotlib.pyplot as plt\n",
    "from lab3 import bot_unicycle_i\n",
    "\n",
    "fig_size=[0, 0]\n",
    "fig_size[0] = 14\n",
    "fig_size[1] = 8\n",
    "plt.rcParams[\"figure.figsize\"] = fig_size"
   ]
  },
  {
   "cell_type": "code",
   "execution_count": 58,
   "metadata": {
    "collapsed": false
   },
   "outputs": [
    {
     "name": "stdout",
     "output_type": "stream",
     "text": [
      "[5, 2, 0.28559933214452665]\n",
      "[2, -50, 1.0471975511965976]\n"
     ]
    },
    {
     "data": {
      "image/png": "[encoded data removed]",
      "text/plain": [
       "<matplotlib.figure.Figure at 0x7fec7dbb4610>"
      ]
     },
     "metadata": {},
     "output_type": "display_data"
    }
   ],
   "source": [
    "t = np.linspace(0,7,500)\n",
    "f = 0.005\n",
    "\n",
    "## predetermined input (for bot 1 i.e. leader bot)\n",
    "u11 = 20\n",
    "u12 = np.sin(2*np.pi*f*t)\n",
    "\n",
    "## Initial conditions, x_10, y_10, theta_10.\n",
    "initial_pose_1 = [5,2, np.pi/11.0]     # for leader\n",
    "initial_pose_2 = [2,-50, np.pi/3.0]     # for follower\n",
    "\n",
    "## Create the leader bot\n",
    "leader = bot_unicycle(1, 1, initial_pose_1) # Leader bot\n",
    "\n",
    "## Create the follower bot\n",
    "## follower = bot_unicycle(1, 1, initial_pose_2) # Follower bot\n",
    "\n",
    "## mark the initial positions on the plot\n",
    "plt.plot(0,0,'rx')  ## Marking the origin\n",
    "\n",
    "plt.plot(initial_pose_1[0],initial_pose_1[1],'ys',label='leader')  # Marking the leaders initial position\n",
    "plt.plot(initial_pose_2[0],initial_pose_2[1],'c^', label='follower')  # Marking the followers initial position\n",
    "##lets test rum them both\n",
    "\n",
    "delta = 0.007    # Time difference between two successive events\n",
    "heading = 0.0    # Initial heading for leader\n",
    "v1 = [u11, 0.0]   # Input vector (first input is the forward velocity, second input is the angular velocity)\n",
    "v2 = [0.0, 0.0]\n",
    "\n",
    "k1 = 0.01\n",
    "k2 = 0.001\n",
    "k3 = 0.02\n",
    "\n",
    "x1_bkp=[]\n",
    "y1_bkp=[]\n",
    "heading1_bkp=[]\n",
    "v1_bkp=[]\n",
    "## Begin the simulation\n",
    "for i in range(150):\n",
    "    x1, y1, heading1 = leader.step(i*delta, v1)\n",
    "    #\n",
    "    #x2, y2, heading2 = initial_pose_2\n",
    "    if i>0:\n",
    "        plt.plot(x1, y1, 'ys')\n",
    "        \n",
    "        \n",
    "        x_ref, y_ref, head_ref = x1, y1, heading1\n",
    "        \n",
    "        x1_bkp.append(x_ref)\n",
    "        y1_bkp.append(y_ref)\n",
    "        heading1_bkp.append(head_ref)\n",
    "        v1_bkp.append(v1)\n",
    "        \n",
    "        v1[1] = v1[1]-u12[i]*np.pi*(1.0/180.0)\n",
    "\n",
    "        \n",
    "## Reinitialization required due to singleton nature of odeint\n",
    "follower = bot_unicycle(1, 1, initial_pose_2) # Follower bot\n",
    "\n",
    "for i in range(140):\n",
    "    x2, y2, heading2 = follower.step(i*delta, v2)\n",
    "    if i>0:\n",
    "        v1 = v1_bkp[i]\n",
    "        x_ref, y_ref, head_ref = x1_bkp[i], y1_bkp[i], heading1_bkp[i]\n",
    "        \n",
    "        \n",
    "        \n",
    "        r_theta = np.matrix([[np.cos(head_ref), np.sin(head_ref)],[-np.sin(head_ref), np.cos(head_ref)]])\n",
    "        pos_err = (r_theta * np.matrix([[x2-x_ref],[y2-y_ref]])).tolist()\n",
    "        # print pos_err, pos_err[0], pos_err[1]\n",
    "        theta_err =  heading2 - head_ref\n",
    "        \n",
    "        z1 = pos_err[0][0]\n",
    "        z2 = pos_err[1][0]\n",
    "        z3 = np.tan(theta_err)\n",
    "        \n",
    "        w1 = -k1 * abs(v1[0])*(z1 + z2*z3)  \n",
    "        w2 = -(k2 * v1[0] * z2)  - (k3*abs(v1[0])*z3 )\n",
    "        \n",
    "        v2[0] = (w1 + v1[0])/np.cos(theta_err)\n",
    "        v2[1] = (w2 + v1[1])*np.cos(theta_err)\n",
    "        plt.plot(x2, y2, 'c^')\n",
    "\n",
    "plt.title('Results')\n",
    "plt.xlabel('x')\n",
    "plt.ylabel('y')\n",
    "plt.legend()\n",
    "plt.grid()\n",
    "plt.show()\n"
   ]
  },
  {
   "cell_type": "code",
   "execution_count": null,
   "metadata": {
    "collapsed": true
   },
   "outputs": [],
   "source": []
  }
 ],
 "metadata": {
  "kernelspec": {
   "display_name": "Python 2",
   "language": "python",
   "name": "python2"
  },
  "language_info": {
   "codemirror_mode": {
    "name": "ipython",
    "version": 2
   },
   "file_extension": ".py",
   "mimetype": "text/x-python",
   "name": "python",
   "nbconvert_exporter": "python",
   "pygments_lexer": "ipython2",
   "version": "2.7.12"
  }
 },
 "nbformat": 4,
 "nbformat_minor": 0
}
