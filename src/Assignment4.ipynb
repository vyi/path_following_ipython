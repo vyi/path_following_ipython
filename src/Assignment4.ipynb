{
 "cells": [
  {
   "cell_type": "markdown",
   "metadata": {},
   "source": [
    "#### Simulation \n",
    "Objective:  Follow the $x$-axis using a proportional controller (Frenet frame part)  \n",
    "\n",
    "\n",
    "$$\\dot{s} = \\frac{1}{1-d~C(s)} [(u_1-l_2~u_2)\\cos\\theta_e ~-~l_1~u_2~\\sin\\theta_e]$$  \n",
    " $$\\dot{d} = (u_1 - l_2~u_2)\\sin\\theta_e ~+~ l_1~u_2~\\cos\\theta_e$$  \n",
    " $$\\dot{\\theta_e} = u_2-\\dot(s)~C(s)$$  \n"
   ]
  },
  {
   "cell_type": "markdown",
   "metadata": {},
   "source": [
    "We wish to follow the x-axis (i.e. straight line) thus..\n",
    "    $$C(s) = 0$$\n",
    "    $$l_2=0$$  \n",
    "    \n"
   ]
  },
  {
   "cell_type": "markdown",
   "metadata": {},
   "source": [
    "This simplifies the frenet frame to  \n",
    "$$\\dot{s} = [u_1~\\cos\\theta_e -l_1u_2\\sin\\theta_e]$$\n",
    "$$\\dot{d} = (u_1)\\sin\\theta_e  + l_1u_2\\cos\\theta_e~~$$\n",
    "$$\\dot{\\theta_e} = u_2~~~~~~~~~~~~~~~~~~~~~~~~~~~~~~~~$$  "
   ]
  },
  {
   "cell_type": "markdown",
   "metadata": {},
   "source": [
    "Now suitable choosing the variables  \n",
    "$$x_{pos}=s $$\n",
    "$$y_{pos}=d$$\n",
    "$$\\theta=\\theta_e$$"
   ]
  },
  {
   "cell_type": "markdown",
   "metadata": {},
   "source": [
    "We get the new model for our robot(unicycle)"
   ]
  },
  {
   "cell_type": "markdown",
   "metadata": {},
   "source": [
    "Writing decoupled form\n",
    "$$\n",
    "\\dot x_p = [u_1~\\cos\\theta_e - l_1u_2\\sin\\theta_e]$$\n",
    "$$\\dot y_p  = (u_1)\\sin\\theta_e + l_1u_2\\cos\\theta_e~~$$\n",
    "$$\\dot{\\theta} = u_2~~~~~~~~~~~~~~~~~~~~~~~~~~~~~~~~~~~$$   \n",
    "\n",
    "This further reduces to  \n",
    "$$ \\left| \\begin{array}{c}\n",
    "\\dot{x_p} \\\\\n",
    "\\dot{y_p} \\\\\n",
    "\\dot\\theta_e \\end{array} \\right|=\\left| \\begin{array}{cc}\n",
    "\\cos\\theta & -l_1 \\sin\\theta \\\\\n",
    "\\sin\\theta & l_1 \\cos\\theta \\\\\n",
    "0 & 1\\end{array} \\right|~\\left| \\begin{array}{c}\n",
    "u_1 \\\\\n",
    "u_2 \\end{array} \\right|$$  "
   ]
  },
  {
   "cell_type": "markdown",
   "metadata": {},
   "source": [
    "The objective is to derive a control law  \n",
    "$$\\left| \\begin{array}{c}\n",
    "\\dot{x_p} \\\\\n",
    "\\dot{y_p} \\end{array} \\right|=\\left| \\begin{array}{c}\n",
    "v_1 \\\\\n",
    "v_2 \\end{array} \\right|$$  "
   ]
  },
  {
   "cell_type": "markdown",
   "metadata": {},
   "source": [
    "The above relation gives\n",
    "$$\\left| \\begin{array}{c}\n",
    "u_1 \\\\\n",
    "u_2 \\end{array} \\right|= \\left| \\begin{array}{cc}\n",
    "\\cos\\theta & -l_1 \\sin\\theta \\\\\n",
    "\\sin\\theta & l_1 \\cos\\theta \\end{array} \\right|^{-1}~\\left| \\begin{array}{c}\n",
    "v_1 \\\\\n",
    "v_2 \\end{array} \\right|\n",
    "$$\n"
   ]
  },
  {
   "cell_type": "markdown",
   "metadata": {},
   "source": [
    "Choosing proportional control  \n",
    "$$\\left| \\begin{array}{c}\n",
    "v_1 \\\\\n",
    "v_2 \\end{array} \\right| = \\left| \\begin{array}{c}\n",
    "-k_1~x_e \\\\\n",
    "-k_2~y_e\\end{array} \\right|= -~\\left| \\begin{array}{c}\n",
    "k_1 (x_p - x_r) \\\\\n",
    "k_2 (y_p - y_r) \\end{array} \\right|$$"
   ]
  },
  {
   "cell_type": "code",
   "execution_count": 1,
   "metadata": {
    "collapsed": true
   },
   "outputs": [],
   "source": [
    "%matplotlib inline\n",
    "import numpy as np\n",
    "import matplotlib.pyplot as plt\n",
    "from lab4 import bot_unicycle\n",
    "\n",
    "fig_size=[0, 0]\n",
    "fig_size[0] = 14\n",
    "fig_size[1] = 8\n",
    "plt.rcParams[\"figure.figsize\"] = fig_size"
   ]
  },
  {
   "cell_type": "code",
   "execution_count": 39,
   "metadata": {
    "collapsed": false
   },
   "outputs": [
    {
     "name": "stdout",
     "output_type": "stream",
     "text": [
      "[5, 2, 0.5235987755982988]\n"
     ]
    },
    {
     "data": {
      "image/png": "[encoded data removed]",
      "text/plain": [
       "<matplotlib.figure.Figure at 0x7fe9298397d0>"
      ]
     },
     "metadata": {},
     "output_type": "display_data"
    }
   ],
   "source": [
    "\n",
    "## time\n",
    "t = np.linspace(0,200,700)\n",
    "\n",
    "## Initial conditions, x_0, y_0, theta_0.\n",
    "initial_pose = [5,2, np.pi/6.0]     \n",
    "\n",
    "## define l1 as 5cm\n",
    "l1 = 5\n",
    "\n",
    "## Create the bot\n",
    "bot = bot_unicycle(1, l1, initial_pose) \n",
    "\n",
    "\n",
    "## mark the initial positions on the plot\n",
    "plt.plot(0,0,'rx')  ## Marking the origin\n",
    "\n",
    "plt.plot([0,100],[0,0],'b',linewidth=3)\n",
    "\n",
    "plt.plot(initial_pose[0], initial_pose[1], 'ys', label='bot trajectory')  # Marking the leaders initial position\n",
    "\n",
    "delta = 0.007    # Time difference between two successive events\n",
    "heading = 0.0    # Initial heading for leader\n",
    "\n",
    "v = [1.0, 5.0]   # Input vector (first input -> forward velocity, second input -> angular velocity)\n",
    "\n",
    "k1 = 0.3\n",
    "k2 = 0.07\n",
    "\n",
    "## Begin the simulation\n",
    "for i in range(300):\n",
    "    x, y, heading = bot.step(i*delta, v)\n",
    "    if i>0:\n",
    "        plt.plot(x, y, 'ys')\n",
    "        x_ref = t[i]\n",
    "        y_ref = 0\n",
    "        \n",
    "        x_e = x-x_ref\n",
    "        y_e = y-y_ref\n",
    "        \n",
    "        v1 = -k1 * x_e\n",
    "        v2 = -k2 * y_e\n",
    "        \n",
    "        u = np.linalg.inv(np.matrix([[np.cos(heading), -l1*np.sin(heading)], [np.sin(heading), l1*np.cos(heading)]]))*np.matrix([[v1],[v2]])\n",
    "        v = [u.tolist()[0][0], u.tolist()[1][0]]\n",
    "        #v = u.tolist()\n",
    "        \n",
    "\n",
    "plt.title('Results')\n",
    "plt.xlabel('x')\n",
    "plt.ylabel('y')\n",
    "plt.legend()\n",
    "plt.ylim(-0.5,2.5)\n",
    "plt.grid()\n",
    "plt.show()"
   ]
  },
  {
   "cell_type": "code",
   "execution_count": null,
   "metadata": {
    "collapsed": true
   },
   "outputs": [],
   "source": []
  }
 ],
 "metadata": {
  "kernelspec": {
   "display_name": "Python 2",
   "language": "python",
   "name": "python2"
  },
  "language_info": {
   "codemirror_mode": {
    "name": "ipython",
    "version": 2
   },
   "file_extension": ".py",
   "mimetype": "text/x-python",
   "name": "python",
   "nbconvert_exporter": "python",
   "pygments_lexer": "ipython2",
   "version": "2.7.12"
  }
 },
 "nbformat": 4,
 "nbformat_minor": 0
}
